{
  "nbformat": 4,
  "nbformat_minor": 0,
  "metadata": {
    "colab": {
      "provenance": [],
      "authorship_tag": "ABX9TyM4lYfjulyRUYrJgKSAcWFO",
      "include_colab_link": true
    },
    "kernelspec": {
      "name": "python3",
      "display_name": "Python 3"
    },
    "language_info": {
      "name": "python"
    }
  },
  "cells": [
    {
      "cell_type": "markdown",
      "metadata": {
        "id": "view-in-github",
        "colab_type": "text"
      },
      "source": [
        "<a href=\"https://colab.research.google.com/github/ShreshthaJha6/MachineLearningProjects/blob/main/SVM_mnist_dataset.ipynb\" target=\"_parent\"><img src=\"https://colab.research.google.com/assets/colab-badge.svg\" alt=\"Open In Colab\"/></a>"
      ]
    },
    {
      "cell_type": "code",
      "execution_count": 14,
      "metadata": {
        "id": "ZIDu8Soi-r_H"
      },
      "outputs": [],
      "source": [
        "#import all the necessory libraries\n",
        "import numpy as np\n",
        "import matplotlib.pyplot as plt\n",
        "from sklearn.model_selection import train_test_split\n",
        "from sklearn import svm\n",
        "from sklearn.metrics import classification_report, accuracy_score, f1_score\n",
        "from sklearn.datasets import fetch_openml\n",
        "from sklearn.preprocessing import StandardScaler\n",
        "import time"
      ]
    },
    {
      "cell_type": "code",
      "source": [
        "#load the dataset\n",
        "mnist = fetch_openml('mnist_784')\n",
        "\n",
        "X,y = mnist['data'], mnist['target']"
      ],
      "metadata": {
        "id": "GLoHzHpO-7SQ"
      },
      "execution_count": 3,
      "outputs": []
    },
    {
      "cell_type": "code",
      "source": [
        "y = y.astype(np.int64) #converting the target to int"
      ],
      "metadata": {
        "id": "HuQPMHBaAYRy"
      },
      "execution_count": 4,
      "outputs": []
    },
    {
      "cell_type": "code",
      "source": [
        "#splitting the dataset\n",
        "X_train, X_test, y_train, y_test = train_test_split(X, y, random_state = 42, test_size = 0.3)"
      ],
      "metadata": {
        "id": "Nat3zRb-Angc"
      },
      "execution_count": 5,
      "outputs": []
    },
    {
      "cell_type": "code",
      "source": [
        "X_train.shape"
      ],
      "metadata": {
        "id": "-kJQOlPVDeSt",
        "outputId": "96475f52-b51e-4bc1-90c6-3e44c7d0dff5",
        "colab": {
          "base_uri": "https://localhost:8080/"
        }
      },
      "execution_count": 6,
      "outputs": [
        {
          "output_type": "execute_result",
          "data": {
            "text/plain": [
              "(49000, 784)"
            ]
          },
          "metadata": {},
          "execution_count": 6
        }
      ]
    },
    {
      "cell_type": "code",
      "source": [
        "X_test.shape"
      ],
      "metadata": {
        "id": "E-podBKmDgxF",
        "outputId": "2d7f510b-8831-4183-943b-fe03a66a24d5",
        "colab": {
          "base_uri": "https://localhost:8080/"
        }
      },
      "execution_count": 7,
      "outputs": [
        {
          "output_type": "execute_result",
          "data": {
            "text/plain": [
              "(21000, 784)"
            ]
          },
          "metadata": {},
          "execution_count": 7
        }
      ]
    },
    {
      "cell_type": "code",
      "source": [
        "scaler = StandardScaler()\n",
        "X_train = scaler.fit_transform(X_train)\n",
        "X_test = scaler.transform(X_test)"
      ],
      "metadata": {
        "id": "y6kwTw3fA7oe"
      },
      "execution_count": 8,
      "outputs": []
    },
    {
      "cell_type": "code",
      "source": [
        "#LINEAR SVM.\n",
        "start_time = time.time()\n",
        "svm_linear = svm.SVC(kernel='linear')\n",
        "svm_linear.fit(X_train, y_train)\n",
        "\n",
        "y_pred_linear = svm_linear.predict(X_test)\n",
        "\n",
        "elapsed_time_linear = time.time() - start_time\n",
        "print(f\"Linear Kernel - Accuracy: {accuracy_score(y_test, y_pred_linear):.4f}, Time: {elapsed_time_linear:.2f}s\")\n",
        "print(classification_report(y_test, y_pred_linear))"
      ],
      "metadata": {
        "colab": {
          "base_uri": "https://localhost:8080/"
        },
        "id": "oA0DBzxtBl4w",
        "outputId": "c4a26917-0a1a-4cee-a418-32378dece765"
      },
      "execution_count": 11,
      "outputs": [
        {
          "output_type": "stream",
          "name": "stdout",
          "text": [
            "Linear Kernel - Accuracy: 0.9200, Time: 405.04s\n",
            "              precision    recall  f1-score   support\n",
            "\n",
            "           0       0.95      0.97      0.96      2058\n",
            "           1       0.95      0.98      0.96      2364\n",
            "           2       0.89      0.90      0.89      2133\n",
            "           3       0.88      0.91      0.89      2176\n",
            "           4       0.91      0.94      0.93      1936\n",
            "           5       0.89      0.88      0.89      1915\n",
            "           6       0.96      0.94      0.95      2088\n",
            "           7       0.94      0.94      0.94      2248\n",
            "           8       0.92      0.85      0.88      1992\n",
            "           9       0.92      0.88      0.90      2090\n",
            "\n",
            "    accuracy                           0.92     21000\n",
            "   macro avg       0.92      0.92      0.92     21000\n",
            "weighted avg       0.92      0.92      0.92     21000\n",
            "\n"
          ]
        }
      ]
    },
    {
      "cell_type": "code",
      "source": [
        "results = {\n",
        "    'kernel': [],\n",
        "    'accuracy': [],\n",
        "    'f1_score': [],\n",
        "    'time': []\n",
        "}"
      ],
      "metadata": {
        "id": "2Hp1nijlJJ0m"
      },
      "execution_count": 34,
      "outputs": []
    },
    {
      "cell_type": "code",
      "source": [
        "results['kernel'].append('Linear')\n",
        "results['accuracy'].append(accuracy_score(y_test, y_pred_linear))\n",
        "results['f1_score'].append(f1_score(y_test, y_pred_linear, average='weighted'))\n",
        "results['time'].append(elapsed_time_linear)"
      ],
      "metadata": {
        "id": "gCDsrhF-SXfX"
      },
      "execution_count": 35,
      "outputs": []
    },
    {
      "cell_type": "code",
      "source": [
        "#RBF SVM.\n",
        "start_time = time.time()\n",
        "svm_rbf = svm.SVC(kernel='rbf')\n",
        "svm_rbf.fit(X_train, y_train)\n",
        "\n",
        "y_pred_rbf = svm_rbf.predict(X_test)\n",
        "\n",
        "elapsed_time_rbf = time.time() - start_time\n",
        "print(f\"Linear Kernel - Accuracy: {accuracy_score(y_test, y_pred_rbf):.4f}, Time: {elapsed_time_rbf:.2f}s\")\n",
        "print(classification_report(y_test, y_pred_rbf))"
      ],
      "metadata": {
        "colab": {
          "base_uri": "https://localhost:8080/"
        },
        "id": "KMj2KNnMC2aP",
        "outputId": "12d10227-8c1e-47ca-adfd-6c4cdf3ce828"
      },
      "execution_count": 16,
      "outputs": [
        {
          "output_type": "stream",
          "name": "stdout",
          "text": [
            "Linear Kernel - Accuracy: 0.9623, Time: 586.79s\n",
            "              precision    recall  f1-score   support\n",
            "\n",
            "           0       0.99      0.98      0.98      2058\n",
            "           1       0.98      0.99      0.98      2364\n",
            "           2       0.95      0.96      0.96      2133\n",
            "           3       0.96      0.95      0.96      2176\n",
            "           4       0.96      0.96      0.96      1936\n",
            "           5       0.97      0.95      0.96      1915\n",
            "           6       0.97      0.98      0.97      2088\n",
            "           7       0.92      0.97      0.94      2248\n",
            "           8       0.97      0.95      0.96      1992\n",
            "           9       0.96      0.93      0.95      2090\n",
            "\n",
            "    accuracy                           0.96     21000\n",
            "   macro avg       0.96      0.96      0.96     21000\n",
            "weighted avg       0.96      0.96      0.96     21000\n",
            "\n"
          ]
        }
      ]
    },
    {
      "cell_type": "code",
      "source": [
        "results['kernel'].append('RBF')\n",
        "results['accuracy'].append(accuracy_score(y_test, y_pred_rbf))\n",
        "results['f1_score'].append(f1_score(y_test, y_pred_rbf, average='weighted'))\n",
        "results['time'].append(elapsed_time_rbf)"
      ],
      "metadata": {
        "id": "BAj7D0JXJOr9"
      },
      "execution_count": 36,
      "outputs": []
    },
    {
      "cell_type": "code",
      "source": [
        "#polynomial SVM.\n",
        "start_time = time.time()\n",
        "svm_polynomial = svm.SVC(kernel='poly')\n",
        "svm_polynomial.fit(X_train, y_train)\n",
        "\n",
        "y_pred_polynomial = svm_polynomial.predict(X_test)\n",
        "\n",
        "elapsed_time_polynomial = time.time() - start_time\n",
        "print(f\"Linear Kernel - Accuracy: {accuracy_score(y_test, y_pred_polynomial):.4f}, Time: {elapsed_time_polynomial:.2f}s\")\n",
        "print(classification_report(y_test, y_pred_polynomial))"
      ],
      "metadata": {
        "colab": {
          "base_uri": "https://localhost:8080/"
        },
        "id": "mx83wTSwDFNo",
        "outputId": "04cc6690-8b86-4669-8ccb-3c8ff3c5b8e0"
      },
      "execution_count": 19,
      "outputs": [
        {
          "output_type": "stream",
          "name": "stdout",
          "text": [
            "Linear Kernel - Accuracy: 0.9577, Time: 915.84s\n",
            "              precision    recall  f1-score   support\n",
            "\n",
            "           0       0.99      0.97      0.98      2058\n",
            "           1       0.98      0.98      0.98      2364\n",
            "           2       0.97      0.94      0.95      2133\n",
            "           3       0.97      0.94      0.95      2176\n",
            "           4       0.93      0.97      0.95      1936\n",
            "           5       0.97      0.95      0.96      1915\n",
            "           6       0.98      0.98      0.98      2088\n",
            "           7       0.97      0.94      0.95      2248\n",
            "           8       0.88      0.97      0.92      1992\n",
            "           9       0.94      0.94      0.94      2090\n",
            "\n",
            "    accuracy                           0.96     21000\n",
            "   macro avg       0.96      0.96      0.96     21000\n",
            "weighted avg       0.96      0.96      0.96     21000\n",
            "\n"
          ]
        }
      ]
    },
    {
      "cell_type": "code",
      "source": [
        "results['kernel'].append('Polynomial')\n",
        "results['accuracy'].append(accuracy_score(y_test, y_pred_polynomial))\n",
        "results['f1_score'].append(f1_score(y_test, y_pred_polynomial, average='weighted'))\n",
        "results['time'].append(elapsed_time_polynomial)"
      ],
      "metadata": {
        "id": "ZAcDbhyVEN0C"
      },
      "execution_count": 37,
      "outputs": []
    },
    {
      "cell_type": "code",
      "source": [
        "print(f\"Kernels: {results['kernel']}\")\n",
        "print(f\"F1-scores: {results['f1_score']}\")"
      ],
      "metadata": {
        "colab": {
          "base_uri": "https://localhost:8080/"
        },
        "id": "ZLzZuq5oRjud",
        "outputId": "7738176c-1442-4fb3-dfa6-8d59932788eb"
      },
      "execution_count": 38,
      "outputs": [
        {
          "output_type": "stream",
          "name": "stdout",
          "text": [
            "Kernels: ['Linear', 'RBF', 'Polynomial']\n",
            "F1-scores: [0.9197958868174373, 0.9623044118018581, 0.9579188734681535]\n"
          ]
        }
      ]
    },
    {
      "cell_type": "code",
      "source": [
        "# Plot the results\n",
        "fig, ax = plt.subplots(1, 3, figsize=(18, 5))\n",
        "\n",
        "# Accuracy Plot\n",
        "ax[0].bar(results['kernel'], results['accuracy'], color=['blue', 'green', 'red'])\n",
        "ax[0].set_title('SVM Accuracy Comparison')\n",
        "ax[0].set_xlabel('Kernel')\n",
        "ax[0].set_ylabel('Accuracy')\n",
        "\n",
        "# F1-score Plot\n",
        "ax[1].bar(results['kernel'], results['f1_score'], color=['blue', 'green', 'red'])\n",
        "ax[1].set_title('SVM F1-Score Comparison')\n",
        "ax[1].set_xlabel('Kernel')\n",
        "ax[1].set_ylabel('F1-Score (Weighted)')\n",
        "\n",
        "# Training Time Plot\n",
        "ax[2].bar(results['kernel'], results['time'], color=['blue', 'green', 'red'])\n",
        "ax[2].set_title('SVM Training Time Comparison')\n",
        "ax[2].set_xlabel('Kernel')\n",
        "ax[2].set_ylabel('Time (seconds)')\n",
        "\n",
        "plt.tight_layout()\n",
        "plt.show()"
      ],
      "metadata": {
        "id": "mpVLWExgJixq",
        "outputId": "566751aa-94b0-4851-fe6c-aad349969f05",
        "colab": {
          "base_uri": "https://localhost:8080/",
          "height": 357
        }
      },
      "execution_count": 39,
      "outputs": [
        {
          "output_type": "display_data",
          "data": {
            "text/plain": [
              "<Figure size 1800x500 with 3 Axes>"
            ],
            "image/png": "[encoded data removed]"
          },
          "metadata": {}
        }
      ]
    }
  ]
}